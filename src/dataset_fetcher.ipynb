{
  "nbformat": 4,
  "nbformat_minor": 0,
  "metadata": {
    "colab": {
      "provenance": []
    },
    "kernelspec": {
      "name": "python3",
      "display_name": "Python 3"
    },
    "language_info": {
      "name": "python"
    }
  },
  "cells": [
    {
      "cell_type": "code",
      "source": [
        "import requests\n",
        "import json\n",
        "import pandas as pd\n",
        "import time\n",
        "\n",
        "url_base = \"https://api.myanimelist.net/v2/anime/\"\n",
        "headers = {\n",
        "    \"X-MAL-CLIENT-ID\": \"3c78e343d4139bb6f8a8e10c42fe4572\",\n",
        "}\n",
        "params = {\n",
        "    \"fields\": \"id,title,synopsis\",\n",
        "}\n",
        "\n",
        "with open('/content/gdrive/MyDrive/anime_cache_24_05_2023.json', 'r') as file:\n",
        "    data = json.load(file)\n",
        "    anime_ids = data['sfw']\n",
        "\n",
        "anime_info = []\n",
        "for anime_id in anime_ids:\n",
        "    response = requests.get(url_base + str(anime_id), headers=headers, params=params)\n",
        "    \n",
        "    if response.status_code == 200:\n",
        "        response_data = response.json()\n",
        "        anime_info.append({\n",
        "            \"ID\": anime_id,\n",
        "            \"Title\": response_data['title'],\n",
        "            \"Synopsis\": response_data['synopsis']\n",
        "        })\n",
        "    else:\n",
        "        print(f'No data returned for ID: {anime_id}, Status Code: {response.status_code}')\n",
        "        \n",
        "    \n",
        "    time.sleep(1)\n",
        "\n",
        "\n",
        "df = pd.DataFrame(anime_info)\n",
        "\n",
        "\n",
        "df.to_csv('/content/gdrive/MyDrive/anime_info.csv', index=False)\n"
      ],
      "metadata": {
        "id": "JUO5_ujBROum"
      },
      "execution_count": 37,
      "outputs": []
    },
    {
      "cell_type": "code",
      "source": [
        "anime_ids1 = anime_ids[1:11522]"
      ],
      "metadata": {
        "id": "r0MLE6sPT2pJ"
      },
      "execution_count": 34,
      "outputs": []
    },
    {
      "cell_type": "code",
      "source": [
        "len(anime_ids1)"
      ],
      "metadata": {
        "colab": {
          "base_uri": "https://localhost:8080/"
        },
        "id": "tkBg6rbIUOeL",
        "outputId": "0dbf0338-8500-42cf-9358-d233fadc77ac"
      },
      "execution_count": 36,
      "outputs": [
        {
          "output_type": "execute_result",
          "data": {
            "text/plain": [
              "11521"
            ]
          },
          "metadata": {},
          "execution_count": 36
        }
      ]
    },
    {
      "cell_type": "code",
      "source": [],
      "metadata": {
        "id": "Ehavk559WWWQ"
      },
      "execution_count": null,
      "outputs": []
    }
  ]
}