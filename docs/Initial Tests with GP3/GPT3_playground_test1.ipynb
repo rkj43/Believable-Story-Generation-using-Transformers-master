{
 "cells": [
  {
   "cell_type": "markdown",
   "id": "770ff64e",
   "metadata": {},
   "source": [
    "## text-davinci-002\n",
    "\n",
    "### Settings:\n",
    "- Temperature: 0.7\n",
    "- Maximum length: 256\n"
   ]
  },
  {
   "cell_type": "markdown",
   "id": "c9d41358",
   "metadata": {},
   "source": [
    "## Input:\n",
    "\n",
    "-- Story about a knight\n",
    "\n",
    "## Output:\n",
    "\n",
    "There once was a knight who was very brave and chivalrous. He was always rescuing damsels in distress and fighting evil dragons. He was very popular with the ladies and was always getting into duels with other knights. One day, he was challenged to a duel by a very famous knight. The knight was very confident that he would win, but the other knight was very skilled and ended up winning the duel."
   ]
  },
  {
   "cell_type": "markdown",
   "id": "4a22aa46",
   "metadata": {},
   "source": [
    "## Input 2:\n",
    "\n",
    "-- Haunted cabin story\n",
    "\n",
    "## Output 2:\n",
    "\n",
    "One summer evening a small girl discovered an old abandoned cabin in the woods near her house. She decided to explore it, and as she entered she had a feeling something wasn't right. The cabin was dark and musty, and it seemed like something was watching her. The girl felt a cold chill run down her spine, and she quickly ran back out of the cabin. She never went back, but she always wondered what was inside."
   ]
  },
  {
   "cell_type": "markdown",
   "id": "c7108179",
   "metadata": {},
   "source": [
    "## Input 3:\n",
    "\n",
    "-- unlucky prince \n",
    "\n",
    "## Output 3:\n",
    "\n",
    "There was once a prince who was very unlucky. Everything he tried always went wrong. One day, he went hunting and got lost in the forest. He came across a small cottage. He knocked on the door and a beautiful woman answered. She invited him in and they fell in love. They got married and had a beautiful baby girl. The prince was finally happy."
   ]
  },
  {
   "cell_type": "markdown",
   "id": "3f7a81f0",
   "metadata": {},
   "source": [
    "## Input 4:\n",
    "\n",
    "-- In the year 2078\n",
    "\n",
    "## Output 4:\n",
    "\n",
    "a mysterious alien race from the planet Keron arrives on Earth, occupying a small island off the coast of Okinawa and claiming it as their own. The aliens, who call themselves the Keronians, establish friendly relations with the people of Earth and begin to share their advanced technology with them. However, the Keronians are soon revealed to have a dark secret: they are actually a race of energy-based beings who require a constant supply of energy to survive, and they have come to Earth to harvest the energy of its human population.\n",
    "\n",
    "The Keronians soon begin to abduct humans and drain their energy, killing them in the process. As the body count begins to mount, the people of Earth realize that they are under attack by a dangerous and ruthless enemy. They band together and form a resistance movement, vowing to drive the Keronians off their planet.\n",
    "\n",
    "The Keronians, meanwhile, are not content with merely harvesting energy from humans. They also want to enslave the human race, and they begin to experiment with ways to control the minds of their human captives. The resistance movement must not only fight the Keronians, but also battle against their own fellow humans who have been turned into mindless slaves."
   ]
  },
  {
   "cell_type": "markdown",
   "id": "34ee3a4f",
   "metadata": {},
   "source": [
    "## Test 2\n",
    "\n",
    "- Temperature: 1\n",
    "- Maximum length: 200"
   ]
  },
  {
   "cell_type": "markdown",
   "id": "69215928",
   "metadata": {},
   "source": [
    "## Input 1:\n",
    "\n",
    "-- Story about a knight\n",
    "\n",
    "## Output 1:\n",
    "\n",
    "There was a knight who was very brave and noble. He always fought for what he believed in and was never afraid to stand up for what was right. One day, he was fighting in a tournament and he was doing very well. However, one of the other knights was cheating and he was about to win. The valiant knight was not about to let this happen and he fought even harder. In the end, he won the tournament and everyone was very impressed with his skills."
   ]
  },
  {
   "cell_type": "markdown",
   "id": "227e5808",
   "metadata": {},
   "source": [
    "## Input 2:\n",
    "\n",
    "-- Haunted cabin story\n",
    "\n",
    "## Output 2:\n",
    "\n",
    "One summer evening a small girl discovered an old abandoned cabin deep in the woods. She went exploring and found an old journal inside. The journal was filled with the story of a young woman who was haunted by a vengeful spirit. The woman had been brutally Murdered by her husband, and her spirit was now haunting him from beyond the grave. The journal detailed the horrific events that led up to her death, and her husband's eventual descent into madness.\n",
    "\n",
    "The small girl was so disturbed by the story that she ran home and never returned to the cabin again. But the journal stayed with her, and she could not forget the woman's story. Every time she thought about it, she felt a cold chill run down her spine.\n"
   ]
  },
  {
   "cell_type": "markdown",
   "id": "fc46ba52",
   "metadata": {},
   "source": [
    "## Input 3:\n",
    "-- unlucky prince\n",
    "\n",
    "## Output 3:\n",
    "The prince that was cursed never found his true love until he was very old."
   ]
  },
  {
   "cell_type": "markdown",
   "id": "50a3383e",
   "metadata": {},
   "source": [
    "## Input 4:\n",
    "-- In the year 2078\n",
    "\n",
    "## Output 4:\n",
    "\n",
    "In the year 2078, the world is a very different place. Global warming has caused drastic changes in the climate, resulting in huge amounts of flooding and damage to coastal areas. The Earth's resources are running low, and the population is dwindling. People have started to live in small, isolated communities, and the government is very strict. There has been a lot of unrest, and people are desperate for a way to make a difference.\n",
    "\n",
    "A group of scientists have been working on a way to travel back in time, in order to warn people about the impending disaster. They have finally perfected the technology, and are about to send a team back to the year 2018.\n",
    "\n",
    "The team is made up of four people: a doctor, a scientist, an engineer, and a soldier. They are all highly trained and have been given specific instructions on what to do.\n",
    "\n",
    "They are to travel to the city of New York and find a woman named Sarah Connor."
   ]
  },
  {
   "cell_type": "code",
   "execution_count": null,
   "id": "76a6d38d",
   "metadata": {},
   "outputs": [],
   "source": []
  }
 ],
 "metadata": {
  "kernelspec": {
   "display_name": "Python 3 (ipykernel)",
   "language": "python",
   "name": "python3"
  },
  "language_info": {
   "codemirror_mode": {
    "name": "ipython",
    "version": 3
   },
   "file_extension": ".py",
   "mimetype": "text/x-python",
   "name": "python",
   "nbconvert_exporter": "python",
   "pygments_lexer": "ipython3",
   "version": "3.9.7"
  }
 },
 "nbformat": 4,
 "nbformat_minor": 5
}
